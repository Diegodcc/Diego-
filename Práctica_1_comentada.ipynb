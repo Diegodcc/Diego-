{
  "nbformat": 4,
  "nbformat_minor": 0,
  "metadata": {
    "colab": {
      "provenance": [],
      "authorship_tag": "ABX9TyMAqAWYAIR83ICWNj554QL7",
      "include_colab_link": true
    },
    "kernelspec": {
      "name": "python3",
      "display_name": "Python 3"
    },
    "language_info": {
      "name": "python"
    }
  },
  "cells": [
    {
      "cell_type": "markdown",
      "metadata": {
        "id": "view-in-github",
        "colab_type": "text"
      },
      "source": [
        "<a href=\"https://colab.research.google.com/github/Diegodcc/Diego-/blob/main/Pr%C3%A1ctica_1_comentada.ipynb\" target=\"_parent\"><img src=\"https://colab.research.google.com/assets/colab-badge.svg\" alt=\"Open In Colab\"/></a>"
      ]
    },
    {
      "cell_type": "code",
      "execution_count": 8,
      "metadata": {
        "colab": {
          "base_uri": "https://localhost:8080/"
        },
        "id": "4-_VIx8M8AmU",
        "outputId": "fec6968f-7efa-4011-9291-468b368176f8"
      },
      "outputs": [
        {
          "output_type": "stream",
          "name": "stdout",
          "text": [
            "La cadena tiene paréntesis bien formados\n"
          ]
        }
      ],
      "source": [
        "def validar_parentesis(cadena):\n",
        "#La función validar_parentesis(cadena) recibe una cadena como argumento.\n",
        "  diferencia = 0\n",
        "#Se inicializa un contador diferencia a 0.\n",
        "  for caracter in cadena:\n",
        "#Se recorre la cadena caracter por caracter.\n",
        "    if caracter == '(':\n",
        "#Si el caracter es un paréntesis de apertura, se incrementa el contador diferencia en 1.\n",
        "      diferencia += 1\n",
        "    elif caracter == ')':\n",
        "#Si el caracter es un paréntesis de cierre, se decrementa el contador diferencia en 1.\n",
        "      diferencia -= 1\n",
        "#Si el contador diferencia es menor que 0 en cualquier momento, se devuelve False.\n",
        "    if diferencia < 0:\n",
        "      return False\n",
        "#Si el contador diferencia es igual a 0 al final del recorrido, se devuelve True.\n",
        "  return diferencia == 0\n",
        "#Si el contador diferencia es diferente de 0 al final del recorrido, se devuelve False\n",
        "\n",
        "cadena = \"(()())\"\n",
        "if validar_parentesis(cadena):\n",
        "  print(\"La cadena tiene paréntesis bien formados\")\n",
        "else:\n",
        "  print(\"La cadena no tiene paréntesis bien formados\")\n"
      ]
    },
    {
      "cell_type": "markdown",
      "source": [],
      "metadata": {
        "id": "f5WLIRwRBgXY"
      }
    }
  ]
}