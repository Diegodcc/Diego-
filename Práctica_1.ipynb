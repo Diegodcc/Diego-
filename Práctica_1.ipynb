{
  "nbformat": 4,
  "nbformat_minor": 0,
  "metadata": {
    "colab": {
      "provenance": [],
      "authorship_tag": "ABX9TyN6XqRgD1cMmNI0tj7H68gl",
      "include_colab_link": true
    },
    "kernelspec": {
      "name": "python3",
      "display_name": "Python 3"
    },
    "language_info": {
      "name": "python"
    }
  },
  "cells": [
    {
      "cell_type": "markdown",
      "metadata": {
        "id": "view-in-github",
        "colab_type": "text"
      },
      "source": [
        "<a href=\"https://colab.research.google.com/github/Diegodcc/Diego-/blob/main/Pr%C3%A1ctica_1.ipynb\" target=\"_parent\"><img src=\"https://colab.research.google.com/assets/colab-badge.svg\" alt=\"Open In Colab\"/></a>"
      ]
    },
    {
      "cell_type": "code",
      "execution_count": 3,
      "metadata": {
        "colab": {
          "base_uri": "https://localhost:8080/"
        },
        "id": "4-_VIx8M8AmU",
        "outputId": "83769239-a439-499d-b74e-b651d784ef66"
      },
      "outputs": [
        {
          "output_type": "stream",
          "name": "stdout",
          "text": [
            "La cadena tiene paréntesis bien formados\n"
          ]
        }
      ],
      "source": [
        "def validar_parentesis(cadena):\n",
        "  diferencia = 0\n",
        "  for caracter in cadena:\n",
        "    if caracter == '(':\n",
        "      diferencia += 1\n",
        "    elif caracter == ')':\n",
        "      diferencia -= 1\n",
        "    if diferencia < 0:\n",
        "      return False\n",
        "  return diferencia == 0\n",
        "\n",
        "cadena = \"(()())\"\n",
        "if validar_parentesis(cadena):\n",
        "  print(\"La cadena tiene paréntesis bien formados\")\n",
        "else:\n",
        "  print(\"La cadena no tiene paréntesis bien formados\")\n"
      ]
    }
  ]
}