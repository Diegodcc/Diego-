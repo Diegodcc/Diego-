{
  "nbformat": 4,
  "nbformat_minor": 0,
  "metadata": {
    "colab": {
      "provenance": [],
      "authorship_tag": "ABX9TyMve/4VuDHZ1AG6HsFasoxk",
      "include_colab_link": true
    },
    "kernelspec": {
      "name": "python3",
      "display_name": "Python 3"
    },
    "language_info": {
      "name": "python"
    }
  },
  "cells": [
    {
      "cell_type": "markdown",
      "metadata": {
        "id": "view-in-github",
        "colab_type": "text"
      },
      "source": [
        "<a href=\"https://colab.research.google.com/github/Diegodcc/Diego-/blob/main/proyecto.ipynb\" target=\"_parent\"><img src=\"https://colab.research.google.com/assets/colab-badge.svg\" alt=\"Open In Colab\"/></a>"
      ]
    },
    {
      "cell_type": "code",
      "source": [
        "from google.colab import drive\n",
        "drive.mount('/content/drive')  # Monta Google Drive para acceder a los archivos\n",
        "\n",
        "import math\n",
        "import pandas as pd\n",
        "\n",
        "def nanstrdetector(lista):\n",
        "    \"\"\"\n",
        "    Esta función detecta NaNs en una lista y los convierte en -1 para denotar NaNs.\n",
        "    Además, convierte cadenas en enteros y crea listas de listas para manejar precedencias múltiples.\n",
        "    \"\"\"\n",
        "    lista_posicion = 0\n",
        "    for i in lista:\n",
        "        if type(i) == int:\n",
        "            lista[lista_posicion] = [i]\n",
        "\n",
        "        if type(i) != str:\n",
        "            bool = math.isnan(float(i))\n",
        "        if bool:\n",
        "            lista[lista_posicion] = [int(-1)]\n",
        "\n",
        "        if type(i) == str:\n",
        "            lista[lista_posicion] = list(i.split(\", \")) #crea la lista de varios precedentes\n",
        "            lista_posicion2 = 0\n",
        "            for j in lista[lista_posicion]:\n",
        "                lista[lista_posicion][lista_posicion2] = int(j) #transforma los precedentes a enteros\n",
        "                lista_posicion2 += 1\n",
        "\n",
        "        lista_posicion += 1\n",
        "\n",
        "    return lista\n",
        "\n",
        "def scanner():\n",
        "    \"\"\"\n",
        "    Esta función lee el documento y guarda los datos en 4 listas separadas.\n",
        "    \"\"\"\n",
        "    excel_data_df = pd.read_excel('/content/drive/My Drive/Creacion_de_la_carrera_de_mat_ap.xlsx')\n",
        "    list_act = excel_data_df['Actividad'].tolist()\n",
        "    list_desc = excel_data_df['Descripcion'].tolist()\n",
        "    list_prec = excel_data_df['Precedentes'].tolist()\n",
        "    list_dur = excel_data_df['Duracion'].tolist()\n",
        "\n",
        "    nanstrdetector(list_prec)\n",
        "    nanstrdetector(list_dur)\n",
        "\n",
        "    return list_act, list_desc, list_prec, list_dur\n",
        "\n",
        "def tiempomin(actividad, list_act, list_desc, list_prec, list_dur):\n",
        "    \"\"\"\n",
        "    Esta función busca el tiempo mínimo para completar una actividad.\n",
        "    \"\"\"\n",
        "    def recursion(c, list_act, list_prec, list_dur, list_usados, t):\n",
        "        for j in list_prec[c]:\n",
        "            lista_posicion = 0\n",
        "            for k in list_act:\n",
        "                if k == j and k not in list_usados:\n",
        "                    t += (list_dur[lista_posicion])[0]\n",
        "                    list_usados.append(list_act[lista_posicion])\n",
        "                    t = recursion(lista_posicion, list_act, list_prec, list_dur, list_usados, t)\n",
        "                else:\n",
        "                    lista_posicion += 1\n",
        "        return t\n",
        "\n",
        "    lista_posicion3 = 0\n",
        "    t = 0\n",
        "    list_usados = []\n",
        "\n",
        "    for i in list_desc:\n",
        "        if i == actividad:\n",
        "            t = (list_dur[lista_posicion3])[0]\n",
        "            list_usados.append(list_act[lista_posicion3])\n",
        "            t = recursion(lista_posicion3, list_act, list_prec, list_dur, list_usados, t)\n",
        "        else:\n",
        "            lista_posicion3 += 1\n",
        "\n",
        "    return t\n",
        "\n",
        "def tiempomax(actividad, list_act, list_desc, list_prec, list_dur):\n",
        "    \"\"\"\n",
        "    Esta función calcula el tiempo máximo para completar una actividad.\n",
        "    \"\"\"\n",
        "    t1 = tiempomin(list_desc[len(list_desc) - 1], list_act, list_desc, list_prec, list_dur)\n",
        "\n",
        "    def recursion2(list_act, list_prec, list_dur, list_imposibles, t):\n",
        "        b = 0\n",
        "        for j in list_prec:\n",
        "            for k in j:\n",
        "                if k in list_imposibles and list_act[b] != 0:\n",
        "                    t += (list_dur[b])[0]\n",
        "                    list_imposibles.append(list_act[b])\n",
        "                    list_act[b] = 0\n",
        "                    list_desc[b] = \"0\"\n",
        "                    list_prec[b] = [0]\n",
        "                    list_dur[b] = [0]\n",
        "                    t = recursion2(list_act, list_prec, list_dur, list_imposibles, t)\n",
        "            b += 1\n",
        "        return t\n",
        "\n",
        "    a = 0\n",
        "    t = 0\n",
        "    list_imposibles = []\n",
        "\n",
        "    list_prec.append(list_act)\n",
        "    list_act.append(len(list_act) + 1)\n",
        "    list_desc.append(\"finalqwert\")\n",
        "    list_dur.append([0])\n",
        "\n",
        "    for i in list_desc:\n",
        "        if i == actividad:\n",
        "            list_imposibles.append(list_act[a])\n",
        "            list_act[a] = 0\n",
        "            list_desc[a] = \"0\"\n",
        "            list_prec[a] = [0]\n",
        "            list_dur[a] = [0]\n",
        "            t = recursion2(list_act, list_prec, list_dur, list_imposibles, t)\n",
        "        else:\n",
        "            a += 1\n",
        "\n",
        "    t = t1 - t\n",
        "\n",
        "    return t\n",
        "\n",
        "# Escanea el documento y obtiene las listas de datos\n",
        "list_act_1, list_desc_1, list_prec_1, list_dur_1 = scanner()\n",
        "\n",
        "# Itera sobre las actividades para imprimir sus tiempos mínimo y máximo\n",
        "z11 = list_desc_1\n",
        "for i in z11:\n",
        "    list_act_1, list_desc_1, list_prec_1, list_dur_1 = scanner()\n",
        "    t1 = tiempomin(i, list_act_1, list_desc_1, list_prec_1, list_dur_1)\n",
        "    list_act_1, list_desc_1, list_prec_1, list_dur_1 = scanner()\n",
        "    t2 = tiempomax(i, list_act_1, list_desc_1, list_prec_1, list_dur_1)\n",
        "    print(\"minimo:\", t1, \"maximo:\", t2)\n"
      ],
      "metadata": {
        "colab": {
          "base_uri": "https://localhost:8080/"
        },
        "id": "Ki58TL2do1Qy",
        "outputId": "500cf464-c464-4596-ae56-b86e7346e436"
      },
      "execution_count": 16,
      "outputs": [
        {
          "output_type": "stream",
          "name": "stdout",
          "text": [
            "Drive already mounted at /content/drive; to attempt to forcibly remount, call drive.mount(\"/content/drive\", force_remount=True).\n",
            "minimo: 3 maximo: 3\n",
            "minimo: 18 maximo: 18\n",
            "minimo: 28 maximo: 28\n",
            "minimo: 30 maximo: 30\n",
            "minimo: 38 maximo: 105\n",
            "minimo: 40 maximo: 105\n",
            "minimo: 40 maximo: 148\n",
            "minimo: 38 maximo: 150\n",
            "minimo: 35 maximo: 171\n",
            "minimo: 58 maximo: 125\n",
            "minimo: 50 maximo: 115\n",
            "minimo: 48 maximo: 156\n",
            "minimo: 44 maximo: 156\n",
            "minimo: 60 maximo: 125\n",
            "minimo: 108 maximo: 145\n",
            "minimo: 158 maximo: 171\n",
            "minimo: 173 maximo: 181\n",
            "minimo: 111 maximo: 148\n",
            "minimo: 119 maximo: 181\n",
            "minimo: 189 maximo: 189\n",
            "minimo: 197 maximo: 197\n"
          ]
        }
      ]
    },
    {
      "cell_type": "code",
      "source": [
        "def write_report(file_path, activities):\n",
        "    with open(file_path, 'w') as f:\n",
        "        f.write(\"Reporte de Tiempo Mínimo Necesitado para la Elaboración del Proyecto:\\n\\n\")\n",
        "        for i, actividad in enumerate(activities, 1):\n",
        "            tiempo_minimo = calculate_minimum_time(actividad)\n",
        "            f.write(f\"Actividad {i} - {actividad}: Tiempo mínimo necesario: {tiempo_minimo} unidades de tiempo\\n\")\n",
        "    print(\"Reporte generado con éxito.\")\n",
        "\n",
        "def calculate_minimum_time(actividad):\n",
        "    list_act, list_desc, list_prec, list_dur = scanner()\n",
        "    return tiempomin(actividad, list_act, list_desc, list_prec, list_dur)\n",
        "\n",
        "# Assuming `scanner()` and `tiempomin()` are defined elsewhere in your code.\n",
        "\n",
        "# Usage:\n",
        "activities = z11  # Assuming z11 is your list of activities\n",
        "report_file_path = '/content/drive/My Drive/Reporte_tiempo_minimo.txt'\n",
        "write_report(report_file_path, activities)\n",
        "\n"
      ],
      "metadata": {
        "colab": {
          "base_uri": "https://localhost:8080/"
        },
        "id": "QVJ24PcDbn5W",
        "outputId": "db8f6778-0570-41ef-eb88-f5ff137ea489"
      },
      "execution_count": 17,
      "outputs": [
        {
          "output_type": "stream",
          "name": "stdout",
          "text": [
            "Reporte generado con éxito.\n"
          ]
        }
      ]
    },
    {
      "cell_type": "code",
      "source": [
        "with open('/content/drive/My Drive/Reporte_tiempo_minimo.txt', 'w') as f:\n",
        "    f.write(\"Reporte de Tiempo Mínimo Necesitado para la Elaboración del Proyecto:\\n\\n\")\n",
        "    for i, actividad in enumerate(z11):\n",
        "        list_act_1, list_desc_1, list_prec_1, list_dur_1 = scanner()\n",
        "        tiempo_minimo = tiempomin(actividad, list_act_1, list_desc_1, list_prec_1, list_dur_1)\n",
        "        f.write(f\"Actividad {i+1} - {actividad}: Tiempo mínimo necesario: {tiempo_minimo} unidades de tiempo\\n\")\n",
        "    print(\"Reporte generado con éxito.\")"
      ],
      "metadata": {
        "colab": {
          "base_uri": "https://localhost:8080/"
        },
        "id": "OOIILBuiZPHq",
        "outputId": "f3814898-da66-4b4e-d59b-3f8cdc95a6f7"
      },
      "execution_count": 18,
      "outputs": [
        {
          "output_type": "stream",
          "name": "stdout",
          "text": [
            "Reporte generado con éxito.\n"
          ]
        }
      ]
    }
  ]
}